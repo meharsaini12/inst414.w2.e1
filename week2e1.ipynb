{
 "cells": [
  {
   "cell_type": "code",
   "execution_count": 17,
   "id": "1b57e10e",
   "metadata": {},
   "outputs": [
    {
     "name": "stdout",
     "output_type": "stream",
     "text": [
      "[{'avg': 6.4, 'votes': 85923}]\n",
      "[{'avg': 6.4, 'votes': 85923}, {'avg': 7.3, 'votes': 620512}]\n",
      "[{'avg': 6.4, 'votes': 85923}, {'avg': 7.3, 'votes': 620512}, {'avg': 6.4, 'votes': 2253}]\n",
      "[{'avg': 6.4, 'votes': 85923}, {'avg': 7.3, 'votes': 620512}, {'avg': 6.4, 'votes': 2253}, {'avg': 6.4, 'votes': 626}]\n",
      "[{'avg': 6.4, 'votes': 85923}, {'avg': 7.3, 'votes': 620512}, {'avg': 6.4, 'votes': 2253}, {'avg': 6.4, 'votes': 626}, {'avg': 6.5, 'votes': 189724}]\n",
      "[{'avg': 6.4, 'votes': 85923}, {'avg': 7.3, 'votes': 620512}, {'avg': 6.4, 'votes': 2253}, {'avg': 6.4, 'votes': 626}, {'avg': 6.5, 'votes': 189724}, {'avg': 7.4, 'votes': 554925}]\n",
      "[{'avg': 6.4, 'votes': 85923}, {'avg': 7.3, 'votes': 620512}, {'avg': 6.4, 'votes': 2253}, {'avg': 6.4, 'votes': 626}, {'avg': 6.5, 'votes': 189724}, {'avg': 7.4, 'votes': 554925}, {'avg': 6.0, 'votes': 270518}]\n",
      "[{'avg': 6.4, 'votes': 85923}, {'avg': 7.3, 'votes': 620512}, {'avg': 6.4, 'votes': 2253}, {'avg': 6.4, 'votes': 626}, {'avg': 6.5, 'votes': 189724}, {'avg': 7.4, 'votes': 554925}, {'avg': 6.0, 'votes': 270518}, {'avg': 6.4, 'votes': 189304}]\n",
      "[{'avg': 6.4, 'votes': 85923}, {'avg': 7.3, 'votes': 620512}, {'avg': 6.4, 'votes': 2253}, {'avg': 6.4, 'votes': 626}, {'avg': 6.5, 'votes': 189724}, {'avg': 7.4, 'votes': 554925}, {'avg': 6.0, 'votes': 270518}, {'avg': 6.4, 'votes': 189304}, {'avg': 6.6, 'votes': 521346}]\n",
      "[{'avg': 6.4, 'votes': 85923}, {'avg': 7.3, 'votes': 620512}, {'avg': 6.4, 'votes': 2253}, {'avg': 6.4, 'votes': 626}, {'avg': 6.5, 'votes': 189724}, {'avg': 7.4, 'votes': 554925}, {'avg': 6.0, 'votes': 270518}, {'avg': 6.4, 'votes': 189304}, {'avg': 6.6, 'votes': 521346}, {'avg': 7.2, 'votes': 241405}]\n",
      "[{'avg': 6.4, 'votes': 85923}, {'avg': 7.3, 'votes': 620512}, {'avg': 6.4, 'votes': 2253}, {'avg': 6.4, 'votes': 626}, {'avg': 6.5, 'votes': 189724}, {'avg': 7.4, 'votes': 554925}, {'avg': 6.0, 'votes': 270518}, {'avg': 6.4, 'votes': 189304}, {'avg': 6.6, 'votes': 521346}, {'avg': 7.2, 'votes': 241405}, {'avg': 6.6, 'votes': 128999}]\n",
      "[{'avg': 6.4, 'votes': 85923}, {'avg': 7.3, 'votes': 620512}, {'avg': 6.4, 'votes': 2253}, {'avg': 6.4, 'votes': 626}, {'avg': 6.5, 'votes': 189724}, {'avg': 7.4, 'votes': 554925}, {'avg': 6.0, 'votes': 270518}, {'avg': 6.4, 'votes': 189304}, {'avg': 6.6, 'votes': 521346}, {'avg': 7.2, 'votes': 241405}, {'avg': 6.6, 'votes': 128999}, {'avg': 7.0, 'votes': 334313}]\n",
      "[{'avg': 6.4, 'votes': 85923}, {'avg': 7.3, 'votes': 620512}, {'avg': 6.4, 'votes': 2253}, {'avg': 6.4, 'votes': 626}, {'avg': 6.5, 'votes': 189724}, {'avg': 7.4, 'votes': 554925}, {'avg': 6.0, 'votes': 270518}, {'avg': 6.4, 'votes': 189304}, {'avg': 6.6, 'votes': 521346}, {'avg': 7.2, 'votes': 241405}, {'avg': 6.6, 'votes': 128999}, {'avg': 7.0, 'votes': 334313}, {'avg': 6.6, 'votes': 126023}]\n",
      "[{'avg': 6.4, 'votes': 85923}, {'avg': 7.3, 'votes': 620512}, {'avg': 6.4, 'votes': 2253}, {'avg': 6.4, 'votes': 626}, {'avg': 6.5, 'votes': 189724}, {'avg': 7.4, 'votes': 554925}, {'avg': 6.0, 'votes': 270518}, {'avg': 6.4, 'votes': 189304}, {'avg': 6.6, 'votes': 521346}, {'avg': 7.2, 'votes': 241405}, {'avg': 6.6, 'votes': 128999}, {'avg': 7.0, 'votes': 334313}, {'avg': 6.6, 'votes': 126023}, {'avg': 6.6, 'votes': 85358}]\n",
      "[{'avg': 6.4, 'votes': 85923}, {'avg': 7.3, 'votes': 620512}, {'avg': 6.4, 'votes': 2253}, {'avg': 6.4, 'votes': 626}, {'avg': 6.5, 'votes': 189724}, {'avg': 7.4, 'votes': 554925}, {'avg': 6.0, 'votes': 270518}, {'avg': 6.4, 'votes': 189304}, {'avg': 6.6, 'votes': 521346}, {'avg': 7.2, 'votes': 241405}, {'avg': 6.6, 'votes': 128999}, {'avg': 7.0, 'votes': 334313}, {'avg': 6.6, 'votes': 126023}, {'avg': 6.6, 'votes': 85358}, {'avg': 6.5, 'votes': 509737}]\n",
      "[{'avg': 6.4, 'votes': 85923}, {'avg': 7.3, 'votes': 620512}, {'avg': 6.4, 'votes': 2253}, {'avg': 6.4, 'votes': 626}, {'avg': 6.5, 'votes': 189724}, {'avg': 7.4, 'votes': 554925}, {'avg': 6.0, 'votes': 270518}, {'avg': 6.4, 'votes': 189304}, {'avg': 6.6, 'votes': 521346}, {'avg': 7.2, 'votes': 241405}, {'avg': 6.6, 'votes': 128999}, {'avg': 7.0, 'votes': 334313}, {'avg': 6.6, 'votes': 126023}, {'avg': 6.6, 'votes': 85358}, {'avg': 6.5, 'votes': 509737}, {'avg': 8.5, 'votes': 1341245}]\n",
      "[{'avg': 6.4, 'votes': 85923}, {'avg': 7.3, 'votes': 620512}, {'avg': 6.4, 'votes': 2253}, {'avg': 6.4, 'votes': 626}, {'avg': 6.5, 'votes': 189724}, {'avg': 7.4, 'votes': 554925}, {'avg': 6.0, 'votes': 270518}, {'avg': 6.4, 'votes': 189304}, {'avg': 6.6, 'votes': 521346}, {'avg': 7.2, 'votes': 241405}, {'avg': 6.6, 'votes': 128999}, {'avg': 7.0, 'votes': 334313}, {'avg': 6.6, 'votes': 126023}, {'avg': 6.6, 'votes': 85358}, {'avg': 6.5, 'votes': 509737}, {'avg': 8.5, 'votes': 1341245}, {'avg': 6.0, 'votes': 39948}]\n",
      "[{'avg': 6.4, 'votes': 85923}, {'avg': 7.3, 'votes': 620512}, {'avg': 6.4, 'votes': 2253}, {'avg': 6.4, 'votes': 626}, {'avg': 6.5, 'votes': 189724}, {'avg': 7.4, 'votes': 554925}, {'avg': 6.0, 'votes': 270518}, {'avg': 6.4, 'votes': 189304}, {'avg': 6.6, 'votes': 521346}, {'avg': 7.2, 'votes': 241405}, {'avg': 6.6, 'votes': 128999}, {'avg': 7.0, 'votes': 334313}, {'avg': 6.6, 'votes': 126023}, {'avg': 6.6, 'votes': 85358}, {'avg': 6.5, 'votes': 509737}, {'avg': 8.5, 'votes': 1341245}, {'avg': 6.0, 'votes': 39948}, {'avg': 7.3, 'votes': 94939}]\n",
      "[{'avg': 6.4, 'votes': 85923}, {'avg': 7.3, 'votes': 620512}, {'avg': 6.4, 'votes': 2253}, {'avg': 6.4, 'votes': 626}, {'avg': 6.5, 'votes': 189724}, {'avg': 7.4, 'votes': 554925}, {'avg': 6.0, 'votes': 270518}, {'avg': 6.4, 'votes': 189304}, {'avg': 6.6, 'votes': 521346}, {'avg': 7.2, 'votes': 241405}, {'avg': 6.6, 'votes': 128999}, {'avg': 7.0, 'votes': 334313}, {'avg': 6.6, 'votes': 126023}, {'avg': 6.6, 'votes': 85358}, {'avg': 6.5, 'votes': 509737}, {'avg': 8.5, 'votes': 1341245}, {'avg': 6.0, 'votes': 39948}, {'avg': 7.3, 'votes': 94939}, {'avg': 6.1, 'votes': 470}]\n",
      "[{'avg': 6.4, 'votes': 85923}, {'avg': 7.3, 'votes': 620512}, {'avg': 6.4, 'votes': 2253}, {'avg': 6.4, 'votes': 626}, {'avg': 6.5, 'votes': 189724}, {'avg': 7.4, 'votes': 554925}, {'avg': 6.0, 'votes': 270518}, {'avg': 6.4, 'votes': 189304}, {'avg': 6.6, 'votes': 521346}, {'avg': 7.2, 'votes': 241405}, {'avg': 6.6, 'votes': 128999}, {'avg': 7.0, 'votes': 334313}, {'avg': 6.6, 'votes': 126023}, {'avg': 6.6, 'votes': 85358}, {'avg': 6.5, 'votes': 509737}, {'avg': 8.5, 'votes': 1341245}, {'avg': 6.0, 'votes': 39948}, {'avg': 7.3, 'votes': 94939}, {'avg': 6.1, 'votes': 470}, {'avg': 8.1, 'votes': 725116}]\n",
      "[{'avg': 6.4, 'votes': 85923}, {'avg': 7.3, 'votes': 620512}, {'avg': 6.4, 'votes': 2253}, {'avg': 6.4, 'votes': 626}, {'avg': 6.5, 'votes': 189724}, {'avg': 7.4, 'votes': 554925}, {'avg': 6.0, 'votes': 270518}, {'avg': 6.4, 'votes': 189304}, {'avg': 6.6, 'votes': 521346}, {'avg': 7.2, 'votes': 241405}, {'avg': 6.6, 'votes': 128999}, {'avg': 7.0, 'votes': 334313}, {'avg': 6.6, 'votes': 126023}, {'avg': 6.6, 'votes': 85358}, {'avg': 6.5, 'votes': 509737}, {'avg': 8.5, 'votes': 1341245}, {'avg': 6.0, 'votes': 39948}, {'avg': 7.3, 'votes': 94939}, {'avg': 6.1, 'votes': 470}, {'avg': 8.1, 'votes': 725116}, {'avg': 6.7, 'votes': 471539}]\n",
      "[{'avg': 6.4, 'votes': 85923}, {'avg': 7.3, 'votes': 620512}, {'avg': 6.4, 'votes': 2253}, {'avg': 6.4, 'votes': 626}, {'avg': 6.5, 'votes': 189724}, {'avg': 7.4, 'votes': 554925}, {'avg': 6.0, 'votes': 270518}, {'avg': 6.4, 'votes': 189304}, {'avg': 6.6, 'votes': 521346}, {'avg': 7.2, 'votes': 241405}, {'avg': 6.6, 'votes': 128999}, {'avg': 7.0, 'votes': 334313}, {'avg': 6.6, 'votes': 126023}, {'avg': 6.6, 'votes': 85358}, {'avg': 6.5, 'votes': 509737}, {'avg': 8.5, 'votes': 1341245}, {'avg': 6.0, 'votes': 39948}, {'avg': 7.3, 'votes': 94939}, {'avg': 6.1, 'votes': 470}, {'avg': 8.1, 'votes': 725116}, {'avg': 6.7, 'votes': 471539}, {'avg': 6.1, 'votes': 1408}]\n",
      "[{'avg': 6.4, 'votes': 85923}, {'avg': 7.3, 'votes': 620512}, {'avg': 6.4, 'votes': 2253}, {'avg': 6.4, 'votes': 626}, {'avg': 6.5, 'votes': 189724}, {'avg': 7.4, 'votes': 554925}, {'avg': 6.0, 'votes': 270518}, {'avg': 6.4, 'votes': 189304}, {'avg': 6.6, 'votes': 521346}, {'avg': 7.2, 'votes': 241405}, {'avg': 6.6, 'votes': 128999}, {'avg': 7.0, 'votes': 334313}, {'avg': 6.6, 'votes': 126023}, {'avg': 6.6, 'votes': 85358}, {'avg': 6.5, 'votes': 509737}, {'avg': 8.5, 'votes': 1341245}, {'avg': 6.0, 'votes': 39948}, {'avg': 7.3, 'votes': 94939}, {'avg': 6.1, 'votes': 470}, {'avg': 8.1, 'votes': 725116}, {'avg': 6.7, 'votes': 471539}, {'avg': 6.1, 'votes': 1408}, {'avg': 7.2, 'votes': 179636}]\n",
      "[{'avg': 6.4, 'votes': 85923}, {'avg': 7.3, 'votes': 620512}, {'avg': 6.4, 'votes': 2253}, {'avg': 6.4, 'votes': 626}, {'avg': 6.5, 'votes': 189724}, {'avg': 7.4, 'votes': 554925}, {'avg': 6.0, 'votes': 270518}, {'avg': 6.4, 'votes': 189304}, {'avg': 6.6, 'votes': 521346}, {'avg': 7.2, 'votes': 241405}, {'avg': 6.6, 'votes': 128999}, {'avg': 7.0, 'votes': 334313}, {'avg': 6.6, 'votes': 126023}, {'avg': 6.6, 'votes': 85358}, {'avg': 6.5, 'votes': 509737}, {'avg': 8.5, 'votes': 1341245}, {'avg': 6.0, 'votes': 39948}, {'avg': 7.3, 'votes': 94939}, {'avg': 6.1, 'votes': 470}, {'avg': 8.1, 'votes': 725116}, {'avg': 6.7, 'votes': 471539}, {'avg': 6.1, 'votes': 1408}, {'avg': 7.2, 'votes': 179636}, {'avg': 7.5, 'votes': 286441}]\n",
      "[{'avg': 6.4, 'votes': 85923}, {'avg': 7.3, 'votes': 620512}, {'avg': 6.4, 'votes': 2253}, {'avg': 6.4, 'votes': 626}, {'avg': 6.5, 'votes': 189724}, {'avg': 7.4, 'votes': 554925}, {'avg': 6.0, 'votes': 270518}, {'avg': 6.4, 'votes': 189304}, {'avg': 6.6, 'votes': 521346}, {'avg': 7.2, 'votes': 241405}, {'avg': 6.6, 'votes': 128999}, {'avg': 7.0, 'votes': 334313}, {'avg': 6.6, 'votes': 126023}, {'avg': 6.6, 'votes': 85358}, {'avg': 6.5, 'votes': 509737}, {'avg': 8.5, 'votes': 1341245}, {'avg': 6.0, 'votes': 39948}, {'avg': 7.3, 'votes': 94939}, {'avg': 6.1, 'votes': 470}, {'avg': 8.1, 'votes': 725116}, {'avg': 6.7, 'votes': 471539}, {'avg': 6.1, 'votes': 1408}, {'avg': 7.2, 'votes': 179636}, {'avg': 7.5, 'votes': 286441}, {'avg': 7.5, 'votes': 333073}]\n",
      "[{'avg': 6.4, 'votes': 85923}, {'avg': 7.3, 'votes': 620512}, {'avg': 6.4, 'votes': 2253}, {'avg': 6.4, 'votes': 626}, {'avg': 6.5, 'votes': 189724}, {'avg': 7.4, 'votes': 554925}, {'avg': 6.0, 'votes': 270518}, {'avg': 6.4, 'votes': 189304}, {'avg': 6.6, 'votes': 521346}, {'avg': 7.2, 'votes': 241405}, {'avg': 6.6, 'votes': 128999}, {'avg': 7.0, 'votes': 334313}, {'avg': 6.6, 'votes': 126023}, {'avg': 6.6, 'votes': 85358}, {'avg': 6.5, 'votes': 509737}, {'avg': 8.5, 'votes': 1341245}, {'avg': 6.0, 'votes': 39948}, {'avg': 7.3, 'votes': 94939}, {'avg': 6.1, 'votes': 470}, {'avg': 8.1, 'votes': 725116}, {'avg': 6.7, 'votes': 471539}, {'avg': 6.1, 'votes': 1408}, {'avg': 7.2, 'votes': 179636}, {'avg': 7.5, 'votes': 286441}, {'avg': 7.5, 'votes': 333073}, {'avg': 6.8, 'votes': 255472}]\n",
      "[{'avg': 6.4, 'votes': 85923}, {'avg': 7.3, 'votes': 620512}, {'avg': 6.4, 'votes': 2253}, {'avg': 6.4, 'votes': 626}, {'avg': 6.5, 'votes': 189724}, {'avg': 7.4, 'votes': 554925}, {'avg': 6.0, 'votes': 270518}, {'avg': 6.4, 'votes': 189304}, {'avg': 6.6, 'votes': 521346}, {'avg': 7.2, 'votes': 241405}, {'avg': 6.6, 'votes': 128999}, {'avg': 7.0, 'votes': 334313}, {'avg': 6.6, 'votes': 126023}, {'avg': 6.6, 'votes': 85358}, {'avg': 6.5, 'votes': 509737}, {'avg': 8.5, 'votes': 1341245}, {'avg': 6.0, 'votes': 39948}, {'avg': 7.3, 'votes': 94939}, {'avg': 6.1, 'votes': 470}, {'avg': 8.1, 'votes': 725116}, {'avg': 6.7, 'votes': 471539}, {'avg': 6.1, 'votes': 1408}, {'avg': 7.2, 'votes': 179636}, {'avg': 7.5, 'votes': 286441}, {'avg': 7.5, 'votes': 333073}, {'avg': 6.8, 'votes': 255472}, {'avg': 7.9, 'votes': 717279}]\n",
      "[{'avg': 6.4, 'votes': 85923}, {'avg': 7.3, 'votes': 620512}, {'avg': 6.4, 'votes': 2253}, {'avg': 6.4, 'votes': 626}, {'avg': 6.5, 'votes': 189724}, {'avg': 7.4, 'votes': 554925}, {'avg': 6.0, 'votes': 270518}, {'avg': 6.4, 'votes': 189304}, {'avg': 6.6, 'votes': 521346}, {'avg': 7.2, 'votes': 241405}, {'avg': 6.6, 'votes': 128999}, {'avg': 7.0, 'votes': 334313}, {'avg': 6.6, 'votes': 126023}, {'avg': 6.6, 'votes': 85358}, {'avg': 6.5, 'votes': 509737}, {'avg': 8.5, 'votes': 1341245}, {'avg': 6.0, 'votes': 39948}, {'avg': 7.3, 'votes': 94939}, {'avg': 6.1, 'votes': 470}, {'avg': 8.1, 'votes': 725116}, {'avg': 6.7, 'votes': 471539}, {'avg': 6.1, 'votes': 1408}, {'avg': 7.2, 'votes': 179636}, {'avg': 7.5, 'votes': 286441}, {'avg': 7.5, 'votes': 333073}, {'avg': 6.8, 'votes': 255472}, {'avg': 7.9, 'votes': 717279}, {'avg': 6.2, 'votes': 20}]\n"
     ]
    },
    {
     "name": "stdout",
     "output_type": "stream",
     "text": [
      "[{'avg': 6.4, 'votes': 85923}, {'avg': 7.3, 'votes': 620512}, {'avg': 6.4, 'votes': 2253}, {'avg': 6.4, 'votes': 626}, {'avg': 6.5, 'votes': 189724}, {'avg': 7.4, 'votes': 554925}, {'avg': 6.0, 'votes': 270518}, {'avg': 6.4, 'votes': 189304}, {'avg': 6.6, 'votes': 521346}, {'avg': 7.2, 'votes': 241405}, {'avg': 6.6, 'votes': 128999}, {'avg': 7.0, 'votes': 334313}, {'avg': 6.6, 'votes': 126023}, {'avg': 6.6, 'votes': 85358}, {'avg': 6.5, 'votes': 509737}, {'avg': 8.5, 'votes': 1341245}, {'avg': 6.0, 'votes': 39948}, {'avg': 7.3, 'votes': 94939}, {'avg': 6.1, 'votes': 470}, {'avg': 8.1, 'votes': 725116}, {'avg': 6.7, 'votes': 471539}, {'avg': 6.1, 'votes': 1408}, {'avg': 7.2, 'votes': 179636}, {'avg': 7.5, 'votes': 286441}, {'avg': 7.5, 'votes': 333073}, {'avg': 6.8, 'votes': 255472}, {'avg': 7.9, 'votes': 717279}, {'avg': 6.2, 'votes': 20}, {'avg': 6.6, 'votes': 47}]\n",
      "[{'avg': 6.4, 'votes': 85923}, {'avg': 7.3, 'votes': 620512}, {'avg': 6.4, 'votes': 2253}, {'avg': 6.4, 'votes': 626}, {'avg': 6.5, 'votes': 189724}, {'avg': 7.4, 'votes': 554925}, {'avg': 6.0, 'votes': 270518}, {'avg': 6.4, 'votes': 189304}, {'avg': 6.6, 'votes': 521346}, {'avg': 7.2, 'votes': 241405}, {'avg': 6.6, 'votes': 128999}, {'avg': 7.0, 'votes': 334313}, {'avg': 6.6, 'votes': 126023}, {'avg': 6.6, 'votes': 85358}, {'avg': 6.5, 'votes': 509737}, {'avg': 8.5, 'votes': 1341245}, {'avg': 6.0, 'votes': 39948}, {'avg': 7.3, 'votes': 94939}, {'avg': 6.1, 'votes': 470}, {'avg': 8.1, 'votes': 725116}, {'avg': 6.7, 'votes': 471539}, {'avg': 6.1, 'votes': 1408}, {'avg': 7.2, 'votes': 179636}, {'avg': 7.5, 'votes': 286441}, {'avg': 7.5, 'votes': 333073}, {'avg': 6.8, 'votes': 255472}, {'avg': 7.9, 'votes': 717279}, {'avg': 6.2, 'votes': 20}, {'avg': 6.6, 'votes': 47}, {'avg': 5.9, 'votes': 57481}]\n",
      "[{'avg': 6.4, 'votes': 85923}, {'avg': 7.3, 'votes': 620512}, {'avg': 6.4, 'votes': 2253}, {'avg': 6.4, 'votes': 626}, {'avg': 6.5, 'votes': 189724}, {'avg': 7.4, 'votes': 554925}, {'avg': 6.0, 'votes': 270518}, {'avg': 6.4, 'votes': 189304}, {'avg': 6.6, 'votes': 521346}, {'avg': 7.2, 'votes': 241405}, {'avg': 6.6, 'votes': 128999}, {'avg': 7.0, 'votes': 334313}, {'avg': 6.6, 'votes': 126023}, {'avg': 6.6, 'votes': 85358}, {'avg': 6.5, 'votes': 509737}, {'avg': 8.5, 'votes': 1341245}, {'avg': 6.0, 'votes': 39948}, {'avg': 7.3, 'votes': 94939}, {'avg': 6.1, 'votes': 470}, {'avg': 8.1, 'votes': 725116}, {'avg': 6.7, 'votes': 471539}, {'avg': 6.1, 'votes': 1408}, {'avg': 7.2, 'votes': 179636}, {'avg': 7.5, 'votes': 286441}, {'avg': 7.5, 'votes': 333073}, {'avg': 6.8, 'votes': 255472}, {'avg': 7.9, 'votes': 717279}, {'avg': 6.2, 'votes': 20}, {'avg': 6.6, 'votes': 47}, {'avg': 5.9, 'votes': 57481}, {'avg': 8.1, 'votes': 770298}]\n",
      "[{'avg': 6.4, 'votes': 85923}, {'avg': 7.3, 'votes': 620512}, {'avg': 6.4, 'votes': 2253}, {'avg': 6.4, 'votes': 626}, {'avg': 6.5, 'votes': 189724}, {'avg': 7.4, 'votes': 554925}, {'avg': 6.0, 'votes': 270518}, {'avg': 6.4, 'votes': 189304}, {'avg': 6.6, 'votes': 521346}, {'avg': 7.2, 'votes': 241405}, {'avg': 6.6, 'votes': 128999}, {'avg': 7.0, 'votes': 334313}, {'avg': 6.6, 'votes': 126023}, {'avg': 6.6, 'votes': 85358}, {'avg': 6.5, 'votes': 509737}, {'avg': 8.5, 'votes': 1341245}, {'avg': 6.0, 'votes': 39948}, {'avg': 7.3, 'votes': 94939}, {'avg': 6.1, 'votes': 470}, {'avg': 8.1, 'votes': 725116}, {'avg': 6.7, 'votes': 471539}, {'avg': 6.1, 'votes': 1408}, {'avg': 7.2, 'votes': 179636}, {'avg': 7.5, 'votes': 286441}, {'avg': 7.5, 'votes': 333073}, {'avg': 6.8, 'votes': 255472}, {'avg': 7.9, 'votes': 717279}, {'avg': 6.2, 'votes': 20}, {'avg': 6.6, 'votes': 47}, {'avg': 5.9, 'votes': 57481}, {'avg': 8.1, 'votes': 770298}, {'avg': 5.7, 'votes': 65117}]\n",
      "[{'avg': 6.4, 'votes': 85923}, {'avg': 7.3, 'votes': 620512}, {'avg': 6.4, 'votes': 2253}, {'avg': 6.4, 'votes': 626}, {'avg': 6.5, 'votes': 189724}, {'avg': 7.4, 'votes': 554925}, {'avg': 6.0, 'votes': 270518}, {'avg': 6.4, 'votes': 189304}, {'avg': 6.6, 'votes': 521346}, {'avg': 7.2, 'votes': 241405}, {'avg': 6.6, 'votes': 128999}, {'avg': 7.0, 'votes': 334313}, {'avg': 6.6, 'votes': 126023}, {'avg': 6.6, 'votes': 85358}, {'avg': 6.5, 'votes': 509737}, {'avg': 8.5, 'votes': 1341245}, {'avg': 6.0, 'votes': 39948}, {'avg': 7.3, 'votes': 94939}, {'avg': 6.1, 'votes': 470}, {'avg': 8.1, 'votes': 725116}, {'avg': 6.7, 'votes': 471539}, {'avg': 6.1, 'votes': 1408}, {'avg': 7.2, 'votes': 179636}, {'avg': 7.5, 'votes': 286441}, {'avg': 7.5, 'votes': 333073}, {'avg': 6.8, 'votes': 255472}, {'avg': 7.9, 'votes': 717279}, {'avg': 6.2, 'votes': 20}, {'avg': 6.6, 'votes': 47}, {'avg': 5.9, 'votes': 57481}, {'avg': 8.1, 'votes': 770298}, {'avg': 5.7, 'votes': 65117}, {'avg': 7.4, 'votes': 10370}]\n",
      "[{'avg': 6.4, 'votes': 85923}, {'avg': 7.3, 'votes': 620512}, {'avg': 6.4, 'votes': 2253}, {'avg': 6.4, 'votes': 626}, {'avg': 6.5, 'votes': 189724}, {'avg': 7.4, 'votes': 554925}, {'avg': 6.0, 'votes': 270518}, {'avg': 6.4, 'votes': 189304}, {'avg': 6.6, 'votes': 521346}, {'avg': 7.2, 'votes': 241405}, {'avg': 6.6, 'votes': 128999}, {'avg': 7.0, 'votes': 334313}, {'avg': 6.6, 'votes': 126023}, {'avg': 6.6, 'votes': 85358}, {'avg': 6.5, 'votes': 509737}, {'avg': 8.5, 'votes': 1341245}, {'avg': 6.0, 'votes': 39948}, {'avg': 7.3, 'votes': 94939}, {'avg': 6.1, 'votes': 470}, {'avg': 8.1, 'votes': 725116}, {'avg': 6.7, 'votes': 471539}, {'avg': 6.1, 'votes': 1408}, {'avg': 7.2, 'votes': 179636}, {'avg': 7.5, 'votes': 286441}, {'avg': 7.5, 'votes': 333073}, {'avg': 6.8, 'votes': 255472}, {'avg': 7.9, 'votes': 717279}, {'avg': 6.2, 'votes': 20}, {'avg': 6.6, 'votes': 47}, {'avg': 5.9, 'votes': 57481}, {'avg': 8.1, 'votes': 770298}, {'avg': 5.7, 'votes': 65117}, {'avg': 7.4, 'votes': 10370}, {'avg': 6.7, 'votes': 26974}]\n",
      "[{'avg': 6.4, 'votes': 85923}, {'avg': 7.3, 'votes': 620512}, {'avg': 6.4, 'votes': 2253}, {'avg': 6.4, 'votes': 626}, {'avg': 6.5, 'votes': 189724}, {'avg': 7.4, 'votes': 554925}, {'avg': 6.0, 'votes': 270518}, {'avg': 6.4, 'votes': 189304}, {'avg': 6.6, 'votes': 521346}, {'avg': 7.2, 'votes': 241405}, {'avg': 6.6, 'votes': 128999}, {'avg': 7.0, 'votes': 334313}, {'avg': 6.6, 'votes': 126023}, {'avg': 6.6, 'votes': 85358}, {'avg': 6.5, 'votes': 509737}, {'avg': 8.5, 'votes': 1341245}, {'avg': 6.0, 'votes': 39948}, {'avg': 7.3, 'votes': 94939}, {'avg': 6.1, 'votes': 470}, {'avg': 8.1, 'votes': 725116}, {'avg': 6.7, 'votes': 471539}, {'avg': 6.1, 'votes': 1408}, {'avg': 7.2, 'votes': 179636}, {'avg': 7.5, 'votes': 286441}, {'avg': 7.5, 'votes': 333073}, {'avg': 6.8, 'votes': 255472}, {'avg': 7.9, 'votes': 717279}, {'avg': 6.2, 'votes': 20}, {'avg': 6.6, 'votes': 47}, {'avg': 5.9, 'votes': 57481}, {'avg': 8.1, 'votes': 770298}, {'avg': 5.7, 'votes': 65117}, {'avg': 7.4, 'votes': 10370}, {'avg': 6.7, 'votes': 26974}, {'avg': 6.1, 'votes': 13505}]\n",
      "[{'avg': 6.4, 'votes': 85923}, {'avg': 7.3, 'votes': 620512}, {'avg': 6.4, 'votes': 2253}, {'avg': 6.4, 'votes': 626}, {'avg': 6.5, 'votes': 189724}, {'avg': 7.4, 'votes': 554925}, {'avg': 6.0, 'votes': 270518}, {'avg': 6.4, 'votes': 189304}, {'avg': 6.6, 'votes': 521346}, {'avg': 7.2, 'votes': 241405}, {'avg': 6.6, 'votes': 128999}, {'avg': 7.0, 'votes': 334313}, {'avg': 6.6, 'votes': 126023}, {'avg': 6.6, 'votes': 85358}, {'avg': 6.5, 'votes': 509737}, {'avg': 8.5, 'votes': 1341245}, {'avg': 6.0, 'votes': 39948}, {'avg': 7.3, 'votes': 94939}, {'avg': 6.1, 'votes': 470}, {'avg': 8.1, 'votes': 725116}, {'avg': 6.7, 'votes': 471539}, {'avg': 6.1, 'votes': 1408}, {'avg': 7.2, 'votes': 179636}, {'avg': 7.5, 'votes': 286441}, {'avg': 7.5, 'votes': 333073}, {'avg': 6.8, 'votes': 255472}, {'avg': 7.9, 'votes': 717279}, {'avg': 6.2, 'votes': 20}, {'avg': 6.6, 'votes': 47}, {'avg': 5.9, 'votes': 57481}, {'avg': 8.1, 'votes': 770298}, {'avg': 5.7, 'votes': 65117}, {'avg': 7.4, 'votes': 10370}, {'avg': 6.7, 'votes': 26974}, {'avg': 6.1, 'votes': 13505}, {'avg': 7.1, 'votes': 41091}]\n"
     ]
    }
   ],
   "source": [
    "import json\n",
    "\n",
    "with open (\"imdb_movies_1985to2022.json\", \"r\") as in_file:\n",
    "    ratinglist = []    \n",
    "    for line in in_file:\n",
    "        #print (line)\n",
    "        this_movie = json.loads(line)\n",
    "        for actor in this_movie[\"actors\"]:\n",
    "            if actor[1] == \"Hugh Jackman\":\n",
    "                ratinglist.append(this_movie[\"rating\"])\n",
    "                print(ratinglist)\n",
    "                \n",
    "        \n",
    "                \n",
    "                \n",
    "            "
   ]
  },
  {
   "cell_type": "code",
   "execution_count": 7,
   "id": "4b4e4af9",
   "metadata": {},
   "outputs": [
    {
     "data": {
      "text/plain": [
       "{'imdb_id': 'tt0035423',\n",
       " 'title': 'Kate & Leopold',\n",
       " 'year': '2001',\n",
       " 'runtime': '118',\n",
       " 'genres': ['Comedy', 'Fantasy', 'Romance'],\n",
       " 'actors': [['nm0000212', 'Meg Ryan'],\n",
       "  ['nm0413168', 'Hugh Jackman'],\n",
       "  ['nm0000630', 'Liev Schreiber'],\n",
       "  ['nm0005227', 'Breckin Meyer']],\n",
       " 'rating': {'avg': 6.4, 'votes': 85923}}"
      ]
     },
     "execution_count": 7,
     "metadata": {},
     "output_type": "execute_result"
    }
   ],
   "source": [
    "this_movie"
   ]
  },
  {
   "cell_type": "code",
   "execution_count": 9,
   "id": "0352bebd",
   "metadata": {},
   "outputs": [
    {
     "ename": "SyntaxError",
     "evalue": "invalid syntax (1656219023.py, line 4)",
     "output_type": "error",
     "traceback": [
      "\u001b[0;36m  File \u001b[0;32m\"/var/folders/3b/dkbp_k217kd2lt5867s05fq40000gn/T/ipykernel_16512/1656219023.py\"\u001b[0;36m, line \u001b[0;32m4\u001b[0m\n\u001b[0;31m    if \"actors\" == \"Hugh Jackman\"\u001b[0m\n\u001b[0m                                 ^\u001b[0m\n\u001b[0;31mSyntaxError\u001b[0m\u001b[0;31m:\u001b[0m invalid syntax\n"
     ]
    }
   ],
   "source": [
    "movielist = []\n",
    "\n",
    "for line in in_file:\n",
    "    if \"Hugh Jackman\" \n",
    "    movielist.append(\"rating\")\n",
    "    ave = avg(movelist)\n",
    "    \n",
    "\n",
    "print (ave)"
   ]
  },
  {
   "cell_type": "code",
   "execution_count": null,
   "id": "c2f73c84",
   "metadata": {},
   "outputs": [],
   "source": []
  }
 ],
 "metadata": {
  "kernelspec": {
   "display_name": "Python 3 (ipykernel)",
   "language": "python",
   "name": "python3"
  },
  "language_info": {
   "codemirror_mode": {
    "name": "ipython",
    "version": 3
   },
   "file_extension": ".py",
   "mimetype": "text/x-python",
   "name": "python",
   "nbconvert_exporter": "python",
   "pygments_lexer": "ipython3",
   "version": "3.9.6"
  }
 },
 "nbformat": 4,
 "nbformat_minor": 5
}
